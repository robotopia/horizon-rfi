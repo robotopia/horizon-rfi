{
 "cells": [
  {
   "cell_type": "code",
   "execution_count": 44,
   "id": "64bbce66",
   "metadata": {},
   "outputs": [],
   "source": [
    "import numpy as np\n",
    "import matplotlib.pyplot as plt\n",
    "\n",
    "from astropy.io import fits\n",
    "import astropy.units as u\n",
    "from astropy.units import cds\n",
    "\n",
    "c = cds.c"
   ]
  },
  {
   "cell_type": "markdown",
   "id": "c4aced43",
   "metadata": {},
   "source": [
    "## Get the antenna positions"
   ]
  },
  {
   "cell_type": "code",
   "execution_count": 36,
   "id": "a90f1b8f",
   "metadata": {},
   "outputs": [],
   "source": [
    "hdul = fits.open(\"1164110416.metafits\")\n",
    "N = hdul[1].data[\"north\"][::2] * u.m\n",
    "E = hdul[1].data[\"east\"][::2] * u.m\n",
    "hdul.close()\n",
    "\n",
    "nant = len(N)"
   ]
  },
  {
   "cell_type": "markdown",
   "id": "dacb70e9",
   "metadata": {},
   "source": [
    "## Construct a horizon (RFI) function"
   ]
  },
  {
   "cell_type": "code",
   "execution_count": 49,
   "id": "de6cbf11",
   "metadata": {},
   "outputs": [
    {
     "data": {
      "image/png": "[encoded data removed]",
      "text/plain": [
       "<Figure size 640x480 with 1 Axes>"
      ]
     },
     "metadata": {},
     "output_type": "display_data"
    }
   ],
   "source": [
    "# Let φ be the compass bearing (angle from North towards East)\n",
    "φ = np.linspace(0, 360, num=10000, endpoint=False) * u.degree\n",
    "dφ = 360/len(φ) * u.degree\n",
    "\n",
    "# A point-like RFI source at about bearing 120°\n",
    "RFI_1 = np.zeros(φ.shape) * u.Jy\n",
    "RFI_1[len(φ)//3] = 1 * u.Jy\n",
    "\n",
    "# A diffuse, Gaussian source centred at 190°\n",
    "σ = 5 * u.degree\n",
    "μ = 190 * u.degree\n",
    "A = 2 * u.Jy\n",
    "RFI_2 = A * (dφ / σ*np.sqrt(2*np.pi)) * np.exp(-0.5*(φ - μ)**2 / σ**2)\n",
    "\n",
    "# Total RFI\n",
    "RFI = RFI_1 + RFI_2\n",
    "\n",
    "plt.plot(φ, RFI)\n",
    "plt.xlabel(f\"φ ({φ.unit})\")\n",
    "plt.ylabel(f\"(RFI) Power ({RFI.unit})\")\n",
    "\n",
    "# Let the RFI be at some particular frequency\n",
    "ν = 150 * u.MHz\n",
    "λ = c/ν"
   ]
  },
  {
   "cell_type": "markdown",
   "id": "47acc5ae",
   "metadata": {},
   "source": [
    "This function is what we're going to try and recover."
   ]
  },
  {
   "cell_type": "markdown",
   "id": "12d56abd",
   "metadata": {},
   "source": [
    "## Simulate the visibilities for each baseline"
   ]
  },
  {
   "cell_type": "code",
   "execution_count": 53,
   "id": "26e34868",
   "metadata": {},
   "outputs": [],
   "source": [
    "# The baseline vectors expressed in terms of number of wavelengths\n",
    "# The coordinate system is (p,q), where p-hat is north and q-hat is east\n",
    "Dλvec = [[((N[j] - N[i])/λ).decompose(),\n",
    "          ((E[j] - E[i])/λ).decompose()] for i in range(nant-1) for j in range(i+1, nant)]"
   ]
  },
  {
   "cell_type": "code",
   "execution_count": 61,
   "id": "99ee5076",
   "metadata": {},
   "outputs": [],
   "source": [
    "# The direction cosines\n",
    "φvec = [[np.cos(φi), np.sin(φi)] for φi in φ]"
   ]
  },
  {
   "cell_type": "code",
   "execution_count": null,
   "id": "30bd7863",
   "metadata": {},
   "outputs": [],
   "source": [
    "# The twiddle factors\n",
    "tw = np.array([[np.exp(-1j*2*np.pi*np.dot(Dλ, φvec[i])) for i in range(len(φ))] for Dλ in Dλvec])\n",
    "# The interferometer measurement equation\n",
    "#Vs = [np.sum(RFI[i] * np.exp(-1j*2*np.pi*np.dot(Dλ, φ[i])))]"
   ]
  },
  {
   "cell_type": "code",
   "execution_count": null,
   "id": "7548db94",
   "metadata": {},
   "outputs": [],
   "source": []
  }
 ],
 "metadata": {
  "kernelspec": {
   "display_name": "Python 3 (ipykernel)",
   "language": "python",
   "name": "python3"
  },
  "language_info": {
   "codemirror_mode": {
    "name": "ipython",
    "version": 3
   },
   "file_extension": ".py",
   "mimetype": "text/x-python",
   "name": "python",
   "nbconvert_exporter": "python",
   "pygments_lexer": "ipython3",
   "version": "3.10.7"
  }
 },
 "nbformat": 4,
 "nbformat_minor": 5
}
